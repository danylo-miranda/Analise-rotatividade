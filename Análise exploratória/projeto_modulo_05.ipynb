{
  "nbformat": 4,
  "nbformat_minor": 0,
  "metadata": {
    "colab": {
      "provenance": []
    },
    "kernelspec": {
      "name": "python3",
      "display_name": "Python 3"
    },
    "language_info": {
      "name": "python"
    }
  },
  "cells": [
    {
      "cell_type": "markdown",
      "source": [
        "# Análise de rotatividade"
      ],
      "metadata": {
        "id": "o71RbRAAmsxN"
      }
    },
    {
      "cell_type": "markdown",
      "source": [
        "\n",
        "*Compreender as motivações por trás da rotatividade de funcionários em uma empresa é fundamental para construir uma força de trabalho estável e produtiva. No ambiente empresarial dinâmico de hoje, é crucial examinar de perto as razões que levam os colaboradores a deixar a organização e os efeitos decorrentes dessa saída. A análise detalhada desses fatores não apenas lança luz sobre as áreas problemáticas dentro da empresa, mas também oferece insights valiosos para o desenvolvimento de estratégias de retenção de talentos eficazes. Neste contexto, explorar as causas subjacentes da saída dos funcionários e os impactos resultantes proporciona um ponto de partida sólido para identificar e implementar soluções que possam melhorar tanto o ambiente de trabalho quanto o desempenho organizacional como um todo. Este ensaio abordará através de gráficos esses aspectos cruciais, destacando a importância de investigar as razões por trás da saída dos funcionários, entender as consequências envolvidas e apresentar abordagens viáveis para lidar com esses desafios persistentes.*"
      ],
      "metadata": {
        "id": "xmyK_IaxOurU"
      }
    },
    {
      "cell_type": "markdown",
      "source": [
        "## Resultados obtidos através de pesquisas"
      ],
      "metadata": {
        "id": "Ljny6iOrEM7I"
      }
    },
    {
      "cell_type": "markdown",
      "source": [
        "![resultados](https://i.imgur.com/uxiMe1R.png)"
      ],
      "metadata": {
        "id": "mM7FTksYED7U"
      }
    },
    {
      "cell_type": "markdown",
      "source": [
        "## Bibliotecas que serão utilizadas"
      ],
      "metadata": {
        "id": "BOG83g_MmY_8"
      }
    },
    {
      "cell_type": "code",
      "source": [
        "import pandas as pd\n",
        "import numpy as np\n",
        "import matplotlib.pyplot as plt"
      ],
      "metadata": {
        "id": "UyFiPuLQRZy6"
      },
      "execution_count": 68,
      "outputs": []
    },
    {
      "cell_type": "markdown",
      "source": [
        "## Criação da Base de Dados"
      ],
      "metadata": {
        "id": "fABDTe9YmdYr"
      }
    },
    {
      "cell_type": "code",
      "source": [
        "# DataFrame do Gráfico\n",
        "dataset = [\n",
        "    {'Fatores': 'Treinamento', 'Impacto': 11,'Pesquisa externa': 31,'Pesquisa interna': 23},\n",
        "    {'Fatores': 'Conflitos internos', 'Impacto': 10,'Pesquisa externa': 11,'Pesquisa interna': 15},\n",
        "    {'Fatores': 'Falta de reconhecimento', 'Impacto': 9,'Pesquisa externa': 65,'Pesquisa interna': 44},\n",
        "    {'Fatores': 'Carga horaria', 'Impacto':8,'Pesquisa externa': 14,'Pesquisa interna': 39},\n",
        "    {'Fatores': 'Progressao de carreira', 'Impacto': 7,'Pesquisa externa': 137,'Pesquisa interna': 171},\n",
        "    {'Fatores': 'Remuneracao', 'Impacto':6,'Pesquisa externa': 16,'Pesquisa interna': 24},\n",
        "    {'Fatores': 'Tipo de trabalho', 'Impacto':5,'Pesquisa externa': 128,'Pesquisa interna': 78},\n",
        "    {'Fatores': 'Mudanca de carreira', 'Impacto': 4,'Pesquisa externa': 18,'Pesquisa interna': 30},\n",
        "    {'Fatores': 'Trajeto', 'Impacto': 3,'Pesquisa externa': 31,'Pesquisa interna': 22},\n",
        "    {'Fatores': 'Realocacao', 'Impacto': 2,'Pesquisa externa': 105,'Pesquisa interna': 37},\n",
        "    {'Fatores': 'Doenca', 'Impacto': 1,'Pesquisa externa': 9,'Pesquisa interna': 21}\n",
        "]"
      ],
      "metadata": {
        "id": "LNwMnDfLn-Ia"
      },
      "execution_count": 9,
      "outputs": []
    },
    {
      "cell_type": "code",
      "source": [
        "df = pd.DataFrame(dataset)\n",
        "df"
      ],
      "metadata": {
        "colab": {
          "base_uri": "https://localhost:8080/",
          "height": 394
        },
        "id": "BfBXeieGvhi-",
        "outputId": "7d734949-142c-4dd9-df84-e72a8b515d21"
      },
      "execution_count": 10,
      "outputs": [
        {
          "output_type": "execute_result",
          "data": {
            "text/plain": [
              "                    Fatores  Impacto  Pesquisa externa  Pesquisa interna\n",
              "0               Treinamento       11                31                23\n",
              "1        Conflitos internos       10                11                15\n",
              "2   Falta de reconhecimento        9                65                44\n",
              "3             Carga horaria        8                14                39\n",
              "4    Progressao de carreira        7               137               171\n",
              "5               Remuneracao        6                16                24\n",
              "6          Tipo de trabalho        5               128                78\n",
              "7       Mudanca de carreira        4                18                30\n",
              "8                   Trajeto        3                31                22\n",
              "9                Realocacao        2               105                37\n",
              "10                   Doenca        1                 9                21"
            ],
            "text/html": [
              "\n",
              "  <div id=\"df-82236e9b-5062-4879-b2a5-75131a5d0e0d\" class=\"colab-df-container\">\n",
              "    <div>\n",
              "<style scoped>\n",
              "    .dataframe tbody tr th:only-of-type {\n",
              "        vertical-align: middle;\n",
              "    }\n",
              "\n",
              "    .dataframe tbody tr th {\n",
              "        vertical-align: top;\n",
              "    }\n",
              "\n",
              "    .dataframe thead th {\n",
              "        text-align: right;\n",
              "    }\n",
              "</style>\n",
              "<table border=\"1\" class=\"dataframe\">\n",
              "  <thead>\n",
              "    <tr style=\"text-align: right;\">\n",
              "      <th></th>\n",
              "      <th>Fatores</th>\n",
              "      <th>Impacto</th>\n",
              "      <th>Pesquisa externa</th>\n",
              "      <th>Pesquisa interna</th>\n",
              "    </tr>\n",
              "  </thead>\n",
              "  <tbody>\n",
              "    <tr>\n",
              "      <th>0</th>\n",
              "      <td>Treinamento</td>\n",
              "      <td>11</td>\n",
              "      <td>31</td>\n",
              "      <td>23</td>\n",
              "    </tr>\n",
              "    <tr>\n",
              "      <th>1</th>\n",
              "      <td>Conflitos internos</td>\n",
              "      <td>10</td>\n",
              "      <td>11</td>\n",
              "      <td>15</td>\n",
              "    </tr>\n",
              "    <tr>\n",
              "      <th>2</th>\n",
              "      <td>Falta de reconhecimento</td>\n",
              "      <td>9</td>\n",
              "      <td>65</td>\n",
              "      <td>44</td>\n",
              "    </tr>\n",
              "    <tr>\n",
              "      <th>3</th>\n",
              "      <td>Carga horaria</td>\n",
              "      <td>8</td>\n",
              "      <td>14</td>\n",
              "      <td>39</td>\n",
              "    </tr>\n",
              "    <tr>\n",
              "      <th>4</th>\n",
              "      <td>Progressao de carreira</td>\n",
              "      <td>7</td>\n",
              "      <td>137</td>\n",
              "      <td>171</td>\n",
              "    </tr>\n",
              "    <tr>\n",
              "      <th>5</th>\n",
              "      <td>Remuneracao</td>\n",
              "      <td>6</td>\n",
              "      <td>16</td>\n",
              "      <td>24</td>\n",
              "    </tr>\n",
              "    <tr>\n",
              "      <th>6</th>\n",
              "      <td>Tipo de trabalho</td>\n",
              "      <td>5</td>\n",
              "      <td>128</td>\n",
              "      <td>78</td>\n",
              "    </tr>\n",
              "    <tr>\n",
              "      <th>7</th>\n",
              "      <td>Mudanca de carreira</td>\n",
              "      <td>4</td>\n",
              "      <td>18</td>\n",
              "      <td>30</td>\n",
              "    </tr>\n",
              "    <tr>\n",
              "      <th>8</th>\n",
              "      <td>Trajeto</td>\n",
              "      <td>3</td>\n",
              "      <td>31</td>\n",
              "      <td>22</td>\n",
              "    </tr>\n",
              "    <tr>\n",
              "      <th>9</th>\n",
              "      <td>Realocacao</td>\n",
              "      <td>2</td>\n",
              "      <td>105</td>\n",
              "      <td>37</td>\n",
              "    </tr>\n",
              "    <tr>\n",
              "      <th>10</th>\n",
              "      <td>Doenca</td>\n",
              "      <td>1</td>\n",
              "      <td>9</td>\n",
              "      <td>21</td>\n",
              "    </tr>\n",
              "  </tbody>\n",
              "</table>\n",
              "</div>\n",
              "    <div class=\"colab-df-buttons\">\n",
              "\n",
              "  <div class=\"colab-df-container\">\n",
              "    <button class=\"colab-df-convert\" onclick=\"convertToInteractive('df-82236e9b-5062-4879-b2a5-75131a5d0e0d')\"\n",
              "            title=\"Convert this dataframe to an interactive table.\"\n",
              "            style=\"display:none;\">\n",
              "\n",
              "  <svg xmlns=\"http://www.w3.org/2000/svg\" height=\"24px\" viewBox=\"0 -960 960 960\">\n",
              "    <path d=\"M120-120v-720h720v720H120Zm60-500h600v-160H180v160Zm220 220h160v-160H400v160Zm0 220h160v-160H400v160ZM180-400h160v-160H180v160Zm440 0h160v-160H620v160ZM180-180h160v-160H180v160Zm440 0h160v-160H620v160Z\"/>\n",
              "  </svg>\n",
              "    </button>\n",
              "\n",
              "  <style>\n",
              "    .colab-df-container {\n",
              "      display:flex;\n",
              "      gap: 12px;\n",
              "    }\n",
              "\n",
              "    .colab-df-convert {\n",
              "      background-color: #E8F0FE;\n",
              "      border: none;\n",
              "      border-radius: 50%;\n",
              "      cursor: pointer;\n",
              "      display: none;\n",
              "      fill: #1967D2;\n",
              "      height: 32px;\n",
              "      padding: 0 0 0 0;\n",
              "      width: 32px;\n",
              "    }\n",
              "\n",
              "    .colab-df-convert:hover {\n",
              "      background-color: #E2EBFA;\n",
              "      box-shadow: 0px 1px 2px rgba(60, 64, 67, 0.3), 0px 1px 3px 1px rgba(60, 64, 67, 0.15);\n",
              "      fill: #174EA6;\n",
              "    }\n",
              "\n",
              "    .colab-df-buttons div {\n",
              "      margin-bottom: 4px;\n",
              "    }\n",
              "\n",
              "    [theme=dark] .colab-df-convert {\n",
              "      background-color: #3B4455;\n",
              "      fill: #D2E3FC;\n",
              "    }\n",
              "\n",
              "    [theme=dark] .colab-df-convert:hover {\n",
              "      background-color: #434B5C;\n",
              "      box-shadow: 0px 1px 3px 1px rgba(0, 0, 0, 0.15);\n",
              "      filter: drop-shadow(0px 1px 2px rgba(0, 0, 0, 0.3));\n",
              "      fill: #FFFFFF;\n",
              "    }\n",
              "  </style>\n",
              "\n",
              "    <script>\n",
              "      const buttonEl =\n",
              "        document.querySelector('#df-82236e9b-5062-4879-b2a5-75131a5d0e0d button.colab-df-convert');\n",
              "      buttonEl.style.display =\n",
              "        google.colab.kernel.accessAllowed ? 'block' : 'none';\n",
              "\n",
              "      async function convertToInteractive(key) {\n",
              "        const element = document.querySelector('#df-82236e9b-5062-4879-b2a5-75131a5d0e0d');\n",
              "        const dataTable =\n",
              "          await google.colab.kernel.invokeFunction('convertToInteractive',\n",
              "                                                    [key], {});\n",
              "        if (!dataTable) return;\n",
              "\n",
              "        const docLinkHtml = 'Like what you see? Visit the ' +\n",
              "          '<a target=\"_blank\" href=https://colab.research.google.com/notebooks/data_table.ipynb>data table notebook</a>'\n",
              "          + ' to learn more about interactive tables.';\n",
              "        element.innerHTML = '';\n",
              "        dataTable['output_type'] = 'display_data';\n",
              "        await google.colab.output.renderOutput(dataTable, element);\n",
              "        const docLink = document.createElement('div');\n",
              "        docLink.innerHTML = docLinkHtml;\n",
              "        element.appendChild(docLink);\n",
              "      }\n",
              "    </script>\n",
              "  </div>\n",
              "\n",
              "\n",
              "<div id=\"df-4e261b86-e892-479c-8c8d-7359b80092ea\">\n",
              "  <button class=\"colab-df-quickchart\" onclick=\"quickchart('df-4e261b86-e892-479c-8c8d-7359b80092ea')\"\n",
              "            title=\"Suggest charts.\"\n",
              "            style=\"display:none;\">\n",
              "\n",
              "<svg xmlns=\"http://www.w3.org/2000/svg\" height=\"24px\"viewBox=\"0 0 24 24\"\n",
              "     width=\"24px\">\n",
              "    <g>\n",
              "        <path d=\"M19 3H5c-1.1 0-2 .9-2 2v14c0 1.1.9 2 2 2h14c1.1 0 2-.9 2-2V5c0-1.1-.9-2-2-2zM9 17H7v-7h2v7zm4 0h-2V7h2v10zm4 0h-2v-4h2v4z\"/>\n",
              "    </g>\n",
              "</svg>\n",
              "  </button>\n",
              "\n",
              "<style>\n",
              "  .colab-df-quickchart {\n",
              "      --bg-color: #E8F0FE;\n",
              "      --fill-color: #1967D2;\n",
              "      --hover-bg-color: #E2EBFA;\n",
              "      --hover-fill-color: #174EA6;\n",
              "      --disabled-fill-color: #AAA;\n",
              "      --disabled-bg-color: #DDD;\n",
              "  }\n",
              "\n",
              "  [theme=dark] .colab-df-quickchart {\n",
              "      --bg-color: #3B4455;\n",
              "      --fill-color: #D2E3FC;\n",
              "      --hover-bg-color: #434B5C;\n",
              "      --hover-fill-color: #FFFFFF;\n",
              "      --disabled-bg-color: #3B4455;\n",
              "      --disabled-fill-color: #666;\n",
              "  }\n",
              "\n",
              "  .colab-df-quickchart {\n",
              "    background-color: var(--bg-color);\n",
              "    border: none;\n",
              "    border-radius: 50%;\n",
              "    cursor: pointer;\n",
              "    display: none;\n",
              "    fill: var(--fill-color);\n",
              "    height: 32px;\n",
              "    padding: 0;\n",
              "    width: 32px;\n",
              "  }\n",
              "\n",
              "  .colab-df-quickchart:hover {\n",
              "    background-color: var(--hover-bg-color);\n",
              "    box-shadow: 0 1px 2px rgba(60, 64, 67, 0.3), 0 1px 3px 1px rgba(60, 64, 67, 0.15);\n",
              "    fill: var(--button-hover-fill-color);\n",
              "  }\n",
              "\n",
              "  .colab-df-quickchart-complete:disabled,\n",
              "  .colab-df-quickchart-complete:disabled:hover {\n",
              "    background-color: var(--disabled-bg-color);\n",
              "    fill: var(--disabled-fill-color);\n",
              "    box-shadow: none;\n",
              "  }\n",
              "\n",
              "  .colab-df-spinner {\n",
              "    border: 2px solid var(--fill-color);\n",
              "    border-color: transparent;\n",
              "    border-bottom-color: var(--fill-color);\n",
              "    animation:\n",
              "      spin 1s steps(1) infinite;\n",
              "  }\n",
              "\n",
              "  @keyframes spin {\n",
              "    0% {\n",
              "      border-color: transparent;\n",
              "      border-bottom-color: var(--fill-color);\n",
              "      border-left-color: var(--fill-color);\n",
              "    }\n",
              "    20% {\n",
              "      border-color: transparent;\n",
              "      border-left-color: var(--fill-color);\n",
              "      border-top-color: var(--fill-color);\n",
              "    }\n",
              "    30% {\n",
              "      border-color: transparent;\n",
              "      border-left-color: var(--fill-color);\n",
              "      border-top-color: var(--fill-color);\n",
              "      border-right-color: var(--fill-color);\n",
              "    }\n",
              "    40% {\n",
              "      border-color: transparent;\n",
              "      border-right-color: var(--fill-color);\n",
              "      border-top-color: var(--fill-color);\n",
              "    }\n",
              "    60% {\n",
              "      border-color: transparent;\n",
              "      border-right-color: var(--fill-color);\n",
              "    }\n",
              "    80% {\n",
              "      border-color: transparent;\n",
              "      border-right-color: var(--fill-color);\n",
              "      border-bottom-color: var(--fill-color);\n",
              "    }\n",
              "    90% {\n",
              "      border-color: transparent;\n",
              "      border-bottom-color: var(--fill-color);\n",
              "    }\n",
              "  }\n",
              "</style>\n",
              "\n",
              "  <script>\n",
              "    async function quickchart(key) {\n",
              "      const quickchartButtonEl =\n",
              "        document.querySelector('#' + key + ' button');\n",
              "      quickchartButtonEl.disabled = true;  // To prevent multiple clicks.\n",
              "      quickchartButtonEl.classList.add('colab-df-spinner');\n",
              "      try {\n",
              "        const charts = await google.colab.kernel.invokeFunction(\n",
              "            'suggestCharts', [key], {});\n",
              "      } catch (error) {\n",
              "        console.error('Error during call to suggestCharts:', error);\n",
              "      }\n",
              "      quickchartButtonEl.classList.remove('colab-df-spinner');\n",
              "      quickchartButtonEl.classList.add('colab-df-quickchart-complete');\n",
              "    }\n",
              "    (() => {\n",
              "      let quickchartButtonEl =\n",
              "        document.querySelector('#df-4e261b86-e892-479c-8c8d-7359b80092ea button');\n",
              "      quickchartButtonEl.style.display =\n",
              "        google.colab.kernel.accessAllowed ? 'block' : 'none';\n",
              "    })();\n",
              "  </script>\n",
              "</div>\n",
              "    </div>\n",
              "  </div>\n"
            ]
          },
          "metadata": {},
          "execution_count": 10
        }
      ]
    },
    {
      "cell_type": "markdown",
      "source": [
        "## Salvar os dados para importa-los no Tableau"
      ],
      "metadata": {
        "id": "cSsY2zUumhk8"
      }
    },
    {
      "cell_type": "code",
      "source": [
        "# Salvar arquivo .CSV\n",
        "df.to_csv('Resultado.csv', index=False)"
      ],
      "metadata": {
        "id": "8ykdfLFmXfBA"
      },
      "execution_count": 4,
      "outputs": []
    },
    {
      "cell_type": "markdown",
      "source": [
        "## Gráfico de Barras"
      ],
      "metadata": {
        "id": "uxl4xdISjEcF"
      }
    },
    {
      "cell_type": "code",
      "source": [
        "df.plot.bar(rot=0)"
      ],
      "metadata": {
        "colab": {
          "base_uri": "https://localhost:8080/",
          "height": 447
        },
        "id": "UmMqE3ysiOiy",
        "outputId": "93f08f40-dad4-4b8d-92c6-9b5d58d38e90"
      },
      "execution_count": 94,
      "outputs": [
        {
          "output_type": "execute_result",
          "data": {
            "text/plain": [
              "<Axes: >"
            ]
          },
          "metadata": {},
          "execution_count": 94
        },
        {
          "output_type": "display_data",
          "data": {
            "text/plain": [
              "<Figure size 640x480 with 1 Axes>"
            ],
            "image/png": "[encoded data removed]"
          },
          "metadata": {}
        }
      ]
    },
    {
      "cell_type": "markdown",
      "source": [
        "* Através do gráfico de barras podemos ter uma visão geral dos indicadores de rotatividade da empresa.\n",
        "* Apesar de ter uma boa visualização ele não demonstra detalhes importantes de maneira clara e objetiva."
      ],
      "metadata": {
        "id": "bHDhSbG9jY-T"
      }
    },
    {
      "cell_type": "markdown",
      "source": [
        "* Ponto Positivo:\n",
        "\n",
        "**Visualização Comparativa:** *Os gráficos de barras são excelentes para comparar diferentes categorias ou grupos de dados. Eles tornam fácil identificar diferenças significativas entre os valores das categorias, o que é útil para análises de tendências e comparações visuais.*\n",
        "\n",
        "* Ponto Negativo:\n",
        "\n",
        "**Dificuldade em Lidar com Dados Contínuos:** *Os gráficos de barras não são a escolha ideal para representar dados contínuos ou de séries temporais, pois as barras podem não se conectar de maneira intuitiva. Para esses tipos de dados, um gráfico de linha pode ser mais apropriado.*"
      ],
      "metadata": {
        "id": "ND06jpunlJwe"
      }
    },
    {
      "cell_type": "markdown",
      "source": [
        "## Gráfico de Boxplot"
      ],
      "metadata": {
        "id": "Dp1tmdgNjH9c"
      }
    },
    {
      "cell_type": "code",
      "source": [
        "df.describe().round(2)"
      ],
      "metadata": {
        "colab": {
          "base_uri": "https://localhost:8080/",
          "height": 300
        },
        "id": "zX9SHDORRXHt",
        "outputId": "68bc796a-2422-436a-bc51-d83611a5c79b"
      },
      "execution_count": 41,
      "outputs": [
        {
          "output_type": "execute_result",
          "data": {
            "text/plain": [
              "       Impacto  Pesquisa externa  Pesquisa interna\n",
              "count    11.00             11.00             11.00\n",
              "mean      6.00             51.36             45.82\n",
              "std       3.32             49.28             44.96\n",
              "min       1.00              9.00             15.00\n",
              "25%       3.50             15.00             22.50\n",
              "50%       6.00             31.00             30.00\n",
              "75%       8.50             85.00             41.50\n",
              "max      11.00            137.00            171.00"
            ],
            "text/html": [
              "\n",
              "  <div id=\"df-7d70c2e9-d8ea-4703-a2b2-eb7a973a99c0\" class=\"colab-df-container\">\n",
              "    <div>\n",
              "<style scoped>\n",
              "    .dataframe tbody tr th:only-of-type {\n",
              "        vertical-align: middle;\n",
              "    }\n",
              "\n",
              "    .dataframe tbody tr th {\n",
              "        vertical-align: top;\n",
              "    }\n",
              "\n",
              "    .dataframe thead th {\n",
              "        text-align: right;\n",
              "    }\n",
              "</style>\n",
              "<table border=\"1\" class=\"dataframe\">\n",
              "  <thead>\n",
              "    <tr style=\"text-align: right;\">\n",
              "      <th></th>\n",
              "      <th>Impacto</th>\n",
              "      <th>Pesquisa externa</th>\n",
              "      <th>Pesquisa interna</th>\n",
              "    </tr>\n",
              "  </thead>\n",
              "  <tbody>\n",
              "    <tr>\n",
              "      <th>count</th>\n",
              "      <td>11.00</td>\n",
              "      <td>11.00</td>\n",
              "      <td>11.00</td>\n",
              "    </tr>\n",
              "    <tr>\n",
              "      <th>mean</th>\n",
              "      <td>6.00</td>\n",
              "      <td>51.36</td>\n",
              "      <td>45.82</td>\n",
              "    </tr>\n",
              "    <tr>\n",
              "      <th>std</th>\n",
              "      <td>3.32</td>\n",
              "      <td>49.28</td>\n",
              "      <td>44.96</td>\n",
              "    </tr>\n",
              "    <tr>\n",
              "      <th>min</th>\n",
              "      <td>1.00</td>\n",
              "      <td>9.00</td>\n",
              "      <td>15.00</td>\n",
              "    </tr>\n",
              "    <tr>\n",
              "      <th>25%</th>\n",
              "      <td>3.50</td>\n",
              "      <td>15.00</td>\n",
              "      <td>22.50</td>\n",
              "    </tr>\n",
              "    <tr>\n",
              "      <th>50%</th>\n",
              "      <td>6.00</td>\n",
              "      <td>31.00</td>\n",
              "      <td>30.00</td>\n",
              "    </tr>\n",
              "    <tr>\n",
              "      <th>75%</th>\n",
              "      <td>8.50</td>\n",
              "      <td>85.00</td>\n",
              "      <td>41.50</td>\n",
              "    </tr>\n",
              "    <tr>\n",
              "      <th>max</th>\n",
              "      <td>11.00</td>\n",
              "      <td>137.00</td>\n",
              "      <td>171.00</td>\n",
              "    </tr>\n",
              "  </tbody>\n",
              "</table>\n",
              "</div>\n",
              "    <div class=\"colab-df-buttons\">\n",
              "\n",
              "  <div class=\"colab-df-container\">\n",
              "    <button class=\"colab-df-convert\" onclick=\"convertToInteractive('df-7d70c2e9-d8ea-4703-a2b2-eb7a973a99c0')\"\n",
              "            title=\"Convert this dataframe to an interactive table.\"\n",
              "            style=\"display:none;\">\n",
              "\n",
              "  <svg xmlns=\"http://www.w3.org/2000/svg\" height=\"24px\" viewBox=\"0 -960 960 960\">\n",
              "    <path d=\"M120-120v-720h720v720H120Zm60-500h600v-160H180v160Zm220 220h160v-160H400v160Zm0 220h160v-160H400v160ZM180-400h160v-160H180v160Zm440 0h160v-160H620v160ZM180-180h160v-160H180v160Zm440 0h160v-160H620v160Z\"/>\n",
              "  </svg>\n",
              "    </button>\n",
              "\n",
              "  <style>\n",
              "    .colab-df-container {\n",
              "      display:flex;\n",
              "      gap: 12px;\n",
              "    }\n",
              "\n",
              "    .colab-df-convert {\n",
              "      background-color: #E8F0FE;\n",
              "      border: none;\n",
              "      border-radius: 50%;\n",
              "      cursor: pointer;\n",
              "      display: none;\n",
              "      fill: #1967D2;\n",
              "      height: 32px;\n",
              "      padding: 0 0 0 0;\n",
              "      width: 32px;\n",
              "    }\n",
              "\n",
              "    .colab-df-convert:hover {\n",
              "      background-color: #E2EBFA;\n",
              "      box-shadow: 0px 1px 2px rgba(60, 64, 67, 0.3), 0px 1px 3px 1px rgba(60, 64, 67, 0.15);\n",
              "      fill: #174EA6;\n",
              "    }\n",
              "\n",
              "    .colab-df-buttons div {\n",
              "      margin-bottom: 4px;\n",
              "    }\n",
              "\n",
              "    [theme=dark] .colab-df-convert {\n",
              "      background-color: #3B4455;\n",
              "      fill: #D2E3FC;\n",
              "    }\n",
              "\n",
              "    [theme=dark] .colab-df-convert:hover {\n",
              "      background-color: #434B5C;\n",
              "      box-shadow: 0px 1px 3px 1px rgba(0, 0, 0, 0.15);\n",
              "      filter: drop-shadow(0px 1px 2px rgba(0, 0, 0, 0.3));\n",
              "      fill: #FFFFFF;\n",
              "    }\n",
              "  </style>\n",
              "\n",
              "    <script>\n",
              "      const buttonEl =\n",
              "        document.querySelector('#df-7d70c2e9-d8ea-4703-a2b2-eb7a973a99c0 button.colab-df-convert');\n",
              "      buttonEl.style.display =\n",
              "        google.colab.kernel.accessAllowed ? 'block' : 'none';\n",
              "\n",
              "      async function convertToInteractive(key) {\n",
              "        const element = document.querySelector('#df-7d70c2e9-d8ea-4703-a2b2-eb7a973a99c0');\n",
              "        const dataTable =\n",
              "          await google.colab.kernel.invokeFunction('convertToInteractive',\n",
              "                                                    [key], {});\n",
              "        if (!dataTable) return;\n",
              "\n",
              "        const docLinkHtml = 'Like what you see? Visit the ' +\n",
              "          '<a target=\"_blank\" href=https://colab.research.google.com/notebooks/data_table.ipynb>data table notebook</a>'\n",
              "          + ' to learn more about interactive tables.';\n",
              "        element.innerHTML = '';\n",
              "        dataTable['output_type'] = 'display_data';\n",
              "        await google.colab.output.renderOutput(dataTable, element);\n",
              "        const docLink = document.createElement('div');\n",
              "        docLink.innerHTML = docLinkHtml;\n",
              "        element.appendChild(docLink);\n",
              "      }\n",
              "    </script>\n",
              "  </div>\n",
              "\n",
              "\n",
              "<div id=\"df-b6ab734f-9bd3-48f9-a706-4e419f56c1eb\">\n",
              "  <button class=\"colab-df-quickchart\" onclick=\"quickchart('df-b6ab734f-9bd3-48f9-a706-4e419f56c1eb')\"\n",
              "            title=\"Suggest charts.\"\n",
              "            style=\"display:none;\">\n",
              "\n",
              "<svg xmlns=\"http://www.w3.org/2000/svg\" height=\"24px\"viewBox=\"0 0 24 24\"\n",
              "     width=\"24px\">\n",
              "    <g>\n",
              "        <path d=\"M19 3H5c-1.1 0-2 .9-2 2v14c0 1.1.9 2 2 2h14c1.1 0 2-.9 2-2V5c0-1.1-.9-2-2-2zM9 17H7v-7h2v7zm4 0h-2V7h2v10zm4 0h-2v-4h2v4z\"/>\n",
              "    </g>\n",
              "</svg>\n",
              "  </button>\n",
              "\n",
              "<style>\n",
              "  .colab-df-quickchart {\n",
              "      --bg-color: #E8F0FE;\n",
              "      --fill-color: #1967D2;\n",
              "      --hover-bg-color: #E2EBFA;\n",
              "      --hover-fill-color: #174EA6;\n",
              "      --disabled-fill-color: #AAA;\n",
              "      --disabled-bg-color: #DDD;\n",
              "  }\n",
              "\n",
              "  [theme=dark] .colab-df-quickchart {\n",
              "      --bg-color: #3B4455;\n",
              "      --fill-color: #D2E3FC;\n",
              "      --hover-bg-color: #434B5C;\n",
              "      --hover-fill-color: #FFFFFF;\n",
              "      --disabled-bg-color: #3B4455;\n",
              "      --disabled-fill-color: #666;\n",
              "  }\n",
              "\n",
              "  .colab-df-quickchart {\n",
              "    background-color: var(--bg-color);\n",
              "    border: none;\n",
              "    border-radius: 50%;\n",
              "    cursor: pointer;\n",
              "    display: none;\n",
              "    fill: var(--fill-color);\n",
              "    height: 32px;\n",
              "    padding: 0;\n",
              "    width: 32px;\n",
              "  }\n",
              "\n",
              "  .colab-df-quickchart:hover {\n",
              "    background-color: var(--hover-bg-color);\n",
              "    box-shadow: 0 1px 2px rgba(60, 64, 67, 0.3), 0 1px 3px 1px rgba(60, 64, 67, 0.15);\n",
              "    fill: var(--button-hover-fill-color);\n",
              "  }\n",
              "\n",
              "  .colab-df-quickchart-complete:disabled,\n",
              "  .colab-df-quickchart-complete:disabled:hover {\n",
              "    background-color: var(--disabled-bg-color);\n",
              "    fill: var(--disabled-fill-color);\n",
              "    box-shadow: none;\n",
              "  }\n",
              "\n",
              "  .colab-df-spinner {\n",
              "    border: 2px solid var(--fill-color);\n",
              "    border-color: transparent;\n",
              "    border-bottom-color: var(--fill-color);\n",
              "    animation:\n",
              "      spin 1s steps(1) infinite;\n",
              "  }\n",
              "\n",
              "  @keyframes spin {\n",
              "    0% {\n",
              "      border-color: transparent;\n",
              "      border-bottom-color: var(--fill-color);\n",
              "      border-left-color: var(--fill-color);\n",
              "    }\n",
              "    20% {\n",
              "      border-color: transparent;\n",
              "      border-left-color: var(--fill-color);\n",
              "      border-top-color: var(--fill-color);\n",
              "    }\n",
              "    30% {\n",
              "      border-color: transparent;\n",
              "      border-left-color: var(--fill-color);\n",
              "      border-top-color: var(--fill-color);\n",
              "      border-right-color: var(--fill-color);\n",
              "    }\n",
              "    40% {\n",
              "      border-color: transparent;\n",
              "      border-right-color: var(--fill-color);\n",
              "      border-top-color: var(--fill-color);\n",
              "    }\n",
              "    60% {\n",
              "      border-color: transparent;\n",
              "      border-right-color: var(--fill-color);\n",
              "    }\n",
              "    80% {\n",
              "      border-color: transparent;\n",
              "      border-right-color: var(--fill-color);\n",
              "      border-bottom-color: var(--fill-color);\n",
              "    }\n",
              "    90% {\n",
              "      border-color: transparent;\n",
              "      border-bottom-color: var(--fill-color);\n",
              "    }\n",
              "  }\n",
              "</style>\n",
              "\n",
              "  <script>\n",
              "    async function quickchart(key) {\n",
              "      const quickchartButtonEl =\n",
              "        document.querySelector('#' + key + ' button');\n",
              "      quickchartButtonEl.disabled = true;  // To prevent multiple clicks.\n",
              "      quickchartButtonEl.classList.add('colab-df-spinner');\n",
              "      try {\n",
              "        const charts = await google.colab.kernel.invokeFunction(\n",
              "            'suggestCharts', [key], {});\n",
              "      } catch (error) {\n",
              "        console.error('Error during call to suggestCharts:', error);\n",
              "      }\n",
              "      quickchartButtonEl.classList.remove('colab-df-spinner');\n",
              "      quickchartButtonEl.classList.add('colab-df-quickchart-complete');\n",
              "    }\n",
              "    (() => {\n",
              "      let quickchartButtonEl =\n",
              "        document.querySelector('#df-b6ab734f-9bd3-48f9-a706-4e419f56c1eb button');\n",
              "      quickchartButtonEl.style.display =\n",
              "        google.colab.kernel.accessAllowed ? 'block' : 'none';\n",
              "    })();\n",
              "  </script>\n",
              "</div>\n",
              "    </div>\n",
              "  </div>\n"
            ]
          },
          "metadata": {},
          "execution_count": 41
        }
      ]
    },
    {
      "cell_type": "code",
      "source": [
        "df['Pesquisa externa'].plot.box(vert=False,figsize=(15,2))"
      ],
      "metadata": {
        "colab": {
          "base_uri": "https://localhost:8080/",
          "height": 231
        },
        "id": "vH7AM3JNVz0L",
        "outputId": "039a85df-6722-4053-a4d4-6e073f00302e"
      },
      "execution_count": 44,
      "outputs": [
        {
          "output_type": "execute_result",
          "data": {
            "text/plain": [
              "<Axes: >"
            ]
          },
          "metadata": {},
          "execution_count": 44
        },
        {
          "output_type": "display_data",
          "data": {
            "text/plain": [
              "<Figure size 1500x200 with 1 Axes>"
            ],
            "image/png": "[encoded data removed]"
          },
          "metadata": {}
        }
      ]
    },
    {
      "cell_type": "markdown",
      "source": [
        "* Pesquisa interna sem nenhum outlier"
      ],
      "metadata": {
        "id": "ekEIAKXQXYfI"
      }
    },
    {
      "cell_type": "code",
      "source": [
        "df['Pesquisa interna'].plot.box(vert=False, figsize=(15,2))"
      ],
      "metadata": {
        "colab": {
          "base_uri": "https://localhost:8080/",
          "height": 231
        },
        "id": "uxHHV9KFW1n1",
        "outputId": "7e038b4e-feaf-4e09-d565-a9b62778e835"
      },
      "execution_count": 45,
      "outputs": [
        {
          "output_type": "execute_result",
          "data": {
            "text/plain": [
              "<Axes: >"
            ]
          },
          "metadata": {},
          "execution_count": 45
        },
        {
          "output_type": "display_data",
          "data": {
            "text/plain": [
              "<Figure size 1500x200 with 1 Axes>"
            ],
            "image/png": "[encoded data removed]"
          },
          "metadata": {}
        }
      ]
    },
    {
      "cell_type": "markdown",
      "source": [
        "* Já na pesquisa interna identificamos 2 pontos muito acima da média que são: Tipo de Trabalho=78 e Progressão de Carreira=171\n",
        "\n",
        "*É muito importante olharmos para esses outliers, pois mesmo não tendo um alto poder impacto na rotatividade de funcionários da empresa percebemos que acontece com uma frequência muito elevada, ainda mais se comparados aos demais indicadores*"
      ],
      "metadata": {
        "id": "7rdu7L4KXcie"
      }
    },
    {
      "cell_type": "markdown",
      "source": [
        "* Ponto Positivo:\n",
        "\n",
        "**Identificação de Outliers e Distribuição:** *Os gráficos de boxplot são úteis para identificar rapidamente a distribuição de dados, incluindo a presença de outliers. Eles fornecem uma representação visual da mediana, quartis e possíveis valores discrepantes em um conjunto de dados.*\n",
        "\n",
        "* Ponto Negativo:\n",
        "\n",
        "**Não Mostra a Estrutura Detalhada:** *Os gráficos de boxplot não fornecem detalhes sobre a estrutura interna dos dados, como a forma exata da distribuição. Eles são mais úteis para identificar valores discrepantes e tendências gerais, mas não são ideais para análises detalhadas de distribuições de dados complexas.*"
      ],
      "metadata": {
        "id": "n8-h5xdGla2f"
      }
    },
    {
      "cell_type": "markdown",
      "source": [
        "## Gráfico de Linhas"
      ],
      "metadata": {
        "id": "5FOJkBjSjPQs"
      }
    },
    {
      "cell_type": "code",
      "source": [
        "# Copia o DataFrame principal\n",
        "df2 = df.copy()"
      ],
      "metadata": {
        "id": "MFW1PtcZZNxI"
      },
      "execution_count": 95,
      "outputs": []
    },
    {
      "cell_type": "code",
      "source": [
        "# Cria uma Series para cada coluna que vamos utilizar para fazer a correlação\n",
        "coluna1 = pd.Series(df2['Pesquisa interna'])\n",
        "coluna2 = pd.Series(df2['Pesquisa externa'])"
      ],
      "metadata": {
        "id": "1Ay7L3Uubbbi"
      },
      "execution_count": 96,
      "outputs": []
    },
    {
      "cell_type": "code",
      "source": [
        "correlacao = coluna1.corr(coluna2)\n",
        "correlacao.round(2)"
      ],
      "metadata": {
        "colab": {
          "base_uri": "https://localhost:8080/"
        },
        "id": "1W5T6TLhdUFe",
        "outputId": "99727003-e537-49ea-ac66-8497265b1036"
      },
      "execution_count": 97,
      "outputs": [
        {
          "output_type": "execute_result",
          "data": {
            "text/plain": [
              "0.79"
            ]
          },
          "metadata": {},
          "execution_count": 97
        }
      ]
    },
    {
      "cell_type": "code",
      "source": [
        "plt.plot(coluna1, label='Pesquisa Interna', linestyle='-', marker='o')\n",
        "plt.plot(coluna2, label='Pesquisa Externa', linestyle='-', marker='x')\n",
        "plt.title('Correlação')\n",
        "plt.xlabel('Amostra')\n",
        "plt.ylabel('Valores')\n",
        "plt.legend()\n",
        "plt.legend(loc='upper left')\n",
        "plt.annotate(f'Correlação: {correlacao:.2f}', xy=(0.5, 0.9), xycoords='axes fraction', fontsize=12, color='red')\n",
        "plt.show()"
      ],
      "metadata": {
        "colab": {
          "base_uri": "https://localhost:8080/",
          "height": 472
        },
        "id": "TSx_oBYWdBuV",
        "outputId": "058adc14-b5b4-4de2-c9e9-ea0400b0a64f"
      },
      "execution_count": 98,
      "outputs": [
        {
          "output_type": "display_data",
          "data": {
            "text/plain": [
              "<Figure size 640x480 with 1 Axes>"
            ],
            "image/png": "[encoded data removed]"
          },
          "metadata": {}
        }
      ]
    },
    {
      "cell_type": "markdown",
      "source": [
        "* A correlação entre as 2 pesquisas indica uma boa taxa de assertividade da pesquisa externa do nosso parceiro, o que demonstra um certo entendimento sobre a situação interna da empresa."
      ],
      "metadata": {
        "id": "qEAIQR8chbNv"
      }
    },
    {
      "cell_type": "markdown",
      "source": [
        "* Ponto Positivo:\n",
        "\n",
        "**Tendências Visuais Claras:** *Ao plotar duas séries de dados em um gráfico de linhas, é possível visualizar facilmente como elas se movem em relação uma à outra. Uma correlação positiva ou negativa entre as séries se torna evidente quando uma linha segue uma direção específica em relação à outra.*\n",
        "\n",
        "* Ponto Negativo:\n",
        "\n",
        "**Correlação não Implica Causalidade:** *Embora um gráfico de linhas possa mostrar uma forte correlação entre duas séries de dados, ele não indica automaticamente uma relação de causa e efeito entre elas. É importante lembrar que a correlação não implica causalidade.*"
      ],
      "metadata": {
        "id": "rGl2h0EOlv2N"
      }
    },
    {
      "cell_type": "markdown",
      "source": [
        "## Conclusão"
      ],
      "metadata": {
        "id": "V5wjTBHjlRbe"
      }
    },
    {
      "cell_type": "markdown",
      "source": [
        "*Em resumo, compreender as motivações por trás da rotatividade de funcionários é um passo essencial na construção de uma força de trabalho estável e produtiva. No ambiente empresarial dinâmico de hoje, a análise cuidadosa das razões para a saída dos colaboradores e dos efeitos resultantes não só revela áreas problemáticas internas, mas também oferece informações valiosas para o desenvolvimento de estratégias eficazes de retenção de talentos. Explorar as causas subjacentes da saída dos funcionários e seus impactos fornece um ponto de partida sólido para identificar e implementar soluções que possam melhorar o ambiente de trabalho e o desempenho organizacional como um todo. Em última análise, a abordagem baseada em dados, apoiada por gráficos e análises detalhadas, é fundamental para enfrentar os desafios persistentes relacionados à rotatividade de funcionários e para promover um ambiente de trabalho mais estável e produtivo.*"
      ],
      "metadata": {
        "id": "S_3__BFtlPvn"
      }
    }
  ]
}